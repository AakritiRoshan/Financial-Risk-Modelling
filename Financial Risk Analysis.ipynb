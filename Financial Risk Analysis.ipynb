{
 "cells": [
  {
   "cell_type": "code",
   "execution_count": 43,
   "id": "474e5dfd",
   "metadata": {},
   "outputs": [],
   "source": [
    "import pandas as pd\n",
    "import numpy as np"
   ]
  },
  {
   "cell_type": "code",
   "execution_count": 44,
   "id": "a0ad2404",
   "metadata": {},
   "outputs": [],
   "source": [
    "combinedFile= r'C:\\Users\\aakri\\OneDrive\\Documents\\cache\\Risk_Analysis_csv.csv'"
   ]
  },
  {
   "cell_type": "code",
   "execution_count": 45,
   "id": "3eb7c992",
   "metadata": {},
   "outputs": [],
   "source": [
    "data1=pd.read_csv(combinedFile)"
   ]
  },
  {
   "cell_type": "markdown",
   "id": "02a9b592",
   "metadata": {},
   "source": [
    "### Assembling a Portfolio:"
   ]
  },
  {
   "cell_type": "code",
   "execution_count": 46,
   "id": "f74d655b",
   "metadata": {
    "scrolled": true
   },
   "outputs": [
    {
     "data": {
      "text/html": [
       "<div>\n",
       "<style scoped>\n",
       "    .dataframe tbody tr th:only-of-type {\n",
       "        vertical-align: middle;\n",
       "    }\n",
       "\n",
       "    .dataframe tbody tr th {\n",
       "        vertical-align: top;\n",
       "    }\n",
       "\n",
       "    .dataframe thead th {\n",
       "        text-align: right;\n",
       "    }\n",
       "</style>\n",
       "<table border=\"1\" class=\"dataframe\">\n",
       "  <thead>\n",
       "    <tr style=\"text-align: right;\">\n",
       "      <th></th>\n",
       "      <th>Date</th>\n",
       "      <th>Google</th>\n",
       "      <th>MSFT</th>\n",
       "      <th>CVX</th>\n",
       "      <th>Oracle</th>\n",
       "      <th>IBM</th>\n",
       "      <th>Starbucks</th>\n",
       "      <th>FVX</th>\n",
       "      <th>S&amp;P500</th>\n",
       "      <th>Unnamed: 9</th>\n",
       "      <th>Unnamed: 10</th>\n",
       "      <th>Unnamed: 11</th>\n",
       "      <th>Unnamed: 12</th>\n",
       "      <th>Unnamed: 13</th>\n",
       "      <th>Unnamed: 14</th>\n",
       "      <th>Unnamed: 15</th>\n",
       "      <th>Unnamed: 16</th>\n",
       "    </tr>\n",
       "  </thead>\n",
       "  <tbody>\n",
       "    <tr>\n",
       "      <th>0</th>\n",
       "      <td>01-06-2021</td>\n",
       "      <td>125.316002</td>\n",
       "      <td>267.383179</td>\n",
       "      <td>105.300003</td>\n",
       "      <td>75.683174</td>\n",
       "      <td>130.263489</td>\n",
       "      <td>108.325027</td>\n",
       "      <td>0.873</td>\n",
       "      <td>2067.56</td>\n",
       "      <td>NaN</td>\n",
       "      <td>NaN</td>\n",
       "      <td>NaN</td>\n",
       "      <td>NaN</td>\n",
       "      <td>NaN</td>\n",
       "      <td>NaN</td>\n",
       "      <td>NaN</td>\n",
       "      <td>NaN</td>\n",
       "    </tr>\n",
       "    <tr>\n",
       "      <th>1</th>\n",
       "      <td>01-05-2021</td>\n",
       "      <td>120.578003</td>\n",
       "      <td>248.332779</td>\n",
       "      <td>105.260002</td>\n",
       "      <td>73.372520</td>\n",
       "      <td>124.684944</td>\n",
       "      <td>110.481926</td>\n",
       "      <td>0.857</td>\n",
       "      <td>1994.99</td>\n",
       "      <td>NaN</td>\n",
       "      <td>NaN</td>\n",
       "      <td>NaN</td>\n",
       "      <td>NaN</td>\n",
       "      <td>NaN</td>\n",
       "      <td>NaN</td>\n",
       "      <td>NaN</td>\n",
       "      <td>NaN</td>\n",
       "    </tr>\n",
       "    <tr>\n",
       "      <th>2</th>\n",
       "      <td>01-04-2021</td>\n",
       "      <td>120.505997</td>\n",
       "      <td>245.870911</td>\n",
       "      <td>103.980003</td>\n",
       "      <td>76.558250</td>\n",
       "      <td>126.319496</td>\n",
       "      <td>109.893280</td>\n",
       "      <td>0.788</td>\n",
       "      <td>2058.90</td>\n",
       "      <td>NaN</td>\n",
       "      <td>NaN</td>\n",
       "      <td>NaN</td>\n",
       "      <td>NaN</td>\n",
       "      <td>NaN</td>\n",
       "      <td>NaN</td>\n",
       "      <td>NaN</td>\n",
       "      <td>NaN</td>\n",
       "    </tr>\n",
       "    <tr>\n",
       "      <th>3</th>\n",
       "      <td>01-03-2021</td>\n",
       "      <td>103.431503</td>\n",
       "      <td>232.173157</td>\n",
       "      <td>102.459999</td>\n",
       "      <td>67.931786</td>\n",
       "      <td>117.109634</td>\n",
       "      <td>105.444656</td>\n",
       "      <td>0.938</td>\n",
       "      <td>2104.50</td>\n",
       "      <td>NaN</td>\n",
       "      <td>NaN</td>\n",
       "      <td>NaN</td>\n",
       "      <td>NaN</td>\n",
       "      <td>NaN</td>\n",
       "      <td>NaN</td>\n",
       "      <td>NaN</td>\n",
       "      <td>NaN</td>\n",
       "    </tr>\n",
       "    <tr>\n",
       "      <th>4</th>\n",
       "      <td>01-02-2021</td>\n",
       "      <td>101.843002</td>\n",
       "      <td>228.309021</td>\n",
       "      <td>85.989998</td>\n",
       "      <td>62.452332</td>\n",
       "      <td>103.138115</td>\n",
       "      <td>103.806145</td>\n",
       "      <td>0.776</td>\n",
       "      <td>2067.89</td>\n",
       "      <td>NaN</td>\n",
       "      <td>NaN</td>\n",
       "      <td>NaN</td>\n",
       "      <td>NaN</td>\n",
       "      <td>NaN</td>\n",
       "      <td>NaN</td>\n",
       "      <td>NaN</td>\n",
       "      <td>NaN</td>\n",
       "    </tr>\n",
       "  </tbody>\n",
       "</table>\n",
       "</div>"
      ],
      "text/plain": [
       "         Date      Google        MSFT         CVX     Oracle         IBM  \\\n",
       "0  01-06-2021  125.316002  267.383179  105.300003  75.683174  130.263489   \n",
       "1  01-05-2021  120.578003  248.332779  105.260002  73.372520  124.684944   \n",
       "2  01-04-2021  120.505997  245.870911  103.980003  76.558250  126.319496   \n",
       "3  01-03-2021  103.431503  232.173157  102.459999  67.931786  117.109634   \n",
       "4  01-02-2021  101.843002  228.309021   85.989998  62.452332  103.138115   \n",
       "\n",
       "    Starbucks    FVX   S&P500  Unnamed: 9  Unnamed: 10  Unnamed: 11  \\\n",
       "0  108.325027  0.873  2067.56         NaN          NaN          NaN   \n",
       "1  110.481926  0.857  1994.99         NaN          NaN          NaN   \n",
       "2  109.893280  0.788  2058.90         NaN          NaN          NaN   \n",
       "3  105.444656  0.938  2104.50         NaN          NaN          NaN   \n",
       "4  103.806145  0.776  2067.89         NaN          NaN          NaN   \n",
       "\n",
       "   Unnamed: 12  Unnamed: 13  Unnamed: 14  Unnamed: 15  Unnamed: 16  \n",
       "0          NaN          NaN          NaN          NaN          NaN  \n",
       "1          NaN          NaN          NaN          NaN          NaN  \n",
       "2          NaN          NaN          NaN          NaN          NaN  \n",
       "3          NaN          NaN          NaN          NaN          NaN  \n",
       "4          NaN          NaN          NaN          NaN          NaN  "
      ]
     },
     "execution_count": 46,
     "metadata": {},
     "output_type": "execute_result"
    }
   ],
   "source": [
    "data1.head()"
   ]
  },
  {
   "cell_type": "code",
   "execution_count": 47,
   "id": "0dfddd7e",
   "metadata": {},
   "outputs": [],
   "source": [
    "data=data1.drop(['Unnamed: 9','Unnamed: 10','Unnamed: 11','Unnamed: 12','Unnamed: 13','Unnamed: 14','Unnamed: 15','Unnamed: 16'], axis=1)"
   ]
  },
  {
   "cell_type": "code",
   "execution_count": 48,
   "id": "6556ea66",
   "metadata": {},
   "outputs": [],
   "source": [
    "#data['Date']= pd.to_datetime(data['Date'], format='%d-%b-%y')"
   ]
  },
  {
   "cell_type": "code",
   "execution_count": 49,
   "id": "0ba6ea70",
   "metadata": {},
   "outputs": [],
   "source": [
    "data=data.sort_values(['Date'],ascending=[True])"
   ]
  },
  {
   "cell_type": "code",
   "execution_count": 50,
   "id": "9ecb4803",
   "metadata": {},
   "outputs": [
    {
     "data": {
      "text/html": [
       "<div>\n",
       "<style scoped>\n",
       "    .dataframe tbody tr th:only-of-type {\n",
       "        vertical-align: middle;\n",
       "    }\n",
       "\n",
       "    .dataframe tbody tr th {\n",
       "        vertical-align: top;\n",
       "    }\n",
       "\n",
       "    .dataframe thead th {\n",
       "        text-align: right;\n",
       "    }\n",
       "</style>\n",
       "<table border=\"1\" class=\"dataframe\">\n",
       "  <thead>\n",
       "    <tr style=\"text-align: right;\">\n",
       "      <th></th>\n",
       "      <th>Date</th>\n",
       "      <th>Google</th>\n",
       "      <th>MSFT</th>\n",
       "      <th>CVX</th>\n",
       "      <th>Oracle</th>\n",
       "      <th>IBM</th>\n",
       "      <th>Starbucks</th>\n",
       "      <th>FVX</th>\n",
       "      <th>S&amp;P500</th>\n",
       "    </tr>\n",
       "  </thead>\n",
       "  <tbody>\n",
       "    <tr>\n",
       "      <th>73</th>\n",
       "      <td>01-01-2014</td>\n",
       "      <td>29.414000</td>\n",
       "      <td>40.720425</td>\n",
       "      <td>118.800003</td>\n",
       "      <td>34.125069</td>\n",
       "      <td>110.302818</td>\n",
       "      <td>32.452744</td>\n",
       "      <td>1.613</td>\n",
       "      <td>4395.26</td>\n",
       "    </tr>\n",
       "    <tr>\n",
       "      <th>86</th>\n",
       "      <td>01-01-2015</td>\n",
       "      <td>26.652824</td>\n",
       "      <td>35.040260</td>\n",
       "      <td>125.660004</td>\n",
       "      <td>36.613895</td>\n",
       "      <td>122.255821</td>\n",
       "      <td>31.235876</td>\n",
       "      <td>1.528</td>\n",
       "      <td>4766.18</td>\n",
       "    </tr>\n",
       "    <tr>\n",
       "      <th>62</th>\n",
       "      <td>01-01-2016</td>\n",
       "      <td>37.147499</td>\n",
       "      <td>49.390697</td>\n",
       "      <td>89.529999</td>\n",
       "      <td>32.274353</td>\n",
       "      <td>87.052704</td>\n",
       "      <td>53.092152</td>\n",
       "      <td>1.335</td>\n",
       "      <td>2912.43</td>\n",
       "    </tr>\n",
       "    <tr>\n",
       "      <th>53</th>\n",
       "      <td>01-01-2017</td>\n",
       "      <td>39.839500</td>\n",
       "      <td>58.934978</td>\n",
       "      <td>111.199997</td>\n",
       "      <td>38.593399</td>\n",
       "      <td>130.221344</td>\n",
       "      <td>50.428387</td>\n",
       "      <td>1.880</td>\n",
       "      <td>2834.40</td>\n",
       "    </tr>\n",
       "    <tr>\n",
       "      <th>28</th>\n",
       "      <td>01-01-2018</td>\n",
       "      <td>58.497002</td>\n",
       "      <td>109.097107</td>\n",
       "      <td>118.930000</td>\n",
       "      <td>47.853382</td>\n",
       "      <td>117.399757</td>\n",
       "      <td>52.247074</td>\n",
       "      <td>2.948</td>\n",
       "      <td>2471.65</td>\n",
       "    </tr>\n",
       "  </tbody>\n",
       "</table>\n",
       "</div>"
      ],
      "text/plain": [
       "          Date     Google        MSFT         CVX     Oracle         IBM  \\\n",
       "73  01-01-2014  29.414000   40.720425  118.800003  34.125069  110.302818   \n",
       "86  01-01-2015  26.652824   35.040260  125.660004  36.613895  122.255821   \n",
       "62  01-01-2016  37.147499   49.390697   89.529999  32.274353   87.052704   \n",
       "53  01-01-2017  39.839500   58.934978  111.199997  38.593399  130.221344   \n",
       "28  01-01-2018  58.497002  109.097107  118.930000  47.853382  117.399757   \n",
       "\n",
       "    Starbucks    FVX   S&P500  \n",
       "73  32.452744  1.613  4395.26  \n",
       "86  31.235876  1.528  4766.18  \n",
       "62  53.092152  1.335  2912.43  \n",
       "53  50.428387  1.880  2834.40  \n",
       "28  52.247074  2.948  2471.65  "
      ]
     },
     "execution_count": 50,
     "metadata": {},
     "output_type": "execute_result"
    }
   ],
   "source": [
    "data.head()"
   ]
  },
  {
   "cell_type": "code",
   "execution_count": 51,
   "id": "4d70951c",
   "metadata": {},
   "outputs": [],
   "source": [
    "returns= data[[key for key in dict(data.dtypes) if dict(data.dtypes)[key] in ['float64','int64']]].pct_change()"
   ]
  },
  {
   "cell_type": "code",
   "execution_count": 53,
   "id": "5640b2fd",
   "metadata": {},
   "outputs": [
    {
     "data": {
      "text/html": [
       "<div>\n",
       "<style scoped>\n",
       "    .dataframe tbody tr th:only-of-type {\n",
       "        vertical-align: middle;\n",
       "    }\n",
       "\n",
       "    .dataframe tbody tr th {\n",
       "        vertical-align: top;\n",
       "    }\n",
       "\n",
       "    .dataframe thead th {\n",
       "        text-align: right;\n",
       "    }\n",
       "</style>\n",
       "<table border=\"1\" class=\"dataframe\">\n",
       "  <thead>\n",
       "    <tr style=\"text-align: right;\">\n",
       "      <th></th>\n",
       "      <th>Google</th>\n",
       "      <th>MSFT</th>\n",
       "      <th>CVX</th>\n",
       "      <th>Oracle</th>\n",
       "      <th>IBM</th>\n",
       "      <th>Starbucks</th>\n",
       "      <th>FVX</th>\n",
       "      <th>S&amp;P500</th>\n",
       "    </tr>\n",
       "  </thead>\n",
       "  <tbody>\n",
       "    <tr>\n",
       "      <th>count</th>\n",
       "      <td>100.000000</td>\n",
       "      <td>100.000000</td>\n",
       "      <td>100.000000</td>\n",
       "      <td>100.000000</td>\n",
       "      <td>100.000000</td>\n",
       "      <td>100.000000</td>\n",
       "      <td>100.000000</td>\n",
       "      <td>100.000000</td>\n",
       "    </tr>\n",
       "    <tr>\n",
       "      <th>mean</th>\n",
       "      <td>48.738647</td>\n",
       "      <td>90.786659</td>\n",
       "      <td>108.644800</td>\n",
       "      <td>42.657865</td>\n",
       "      <td>112.375547</td>\n",
       "      <td>55.860041</td>\n",
       "      <td>1.547660</td>\n",
       "      <td>2988.392400</td>\n",
       "    </tr>\n",
       "    <tr>\n",
       "      <th>std</th>\n",
       "      <td>23.111562</td>\n",
       "      <td>64.513197</td>\n",
       "      <td>14.735341</td>\n",
       "      <td>10.504181</td>\n",
       "      <td>10.627036</td>\n",
       "      <td>21.248160</td>\n",
       "      <td>0.675345</td>\n",
       "      <td>822.757385</td>\n",
       "    </tr>\n",
       "    <tr>\n",
       "      <th>min</th>\n",
       "      <td>19.780607</td>\n",
       "      <td>23.786327</td>\n",
       "      <td>69.510002</td>\n",
       "      <td>26.397947</td>\n",
       "      <td>87.052704</td>\n",
       "      <td>23.969864</td>\n",
       "      <td>0.215000</td>\n",
       "      <td>1920.030000</td>\n",
       "    </tr>\n",
       "    <tr>\n",
       "      <th>25%</th>\n",
       "      <td>28.763032</td>\n",
       "      <td>40.457835</td>\n",
       "      <td>101.705002</td>\n",
       "      <td>35.293926</td>\n",
       "      <td>105.666763</td>\n",
       "      <td>42.438245</td>\n",
       "      <td>1.211750</td>\n",
       "      <td>2228.825000</td>\n",
       "    </tr>\n",
       "    <tr>\n",
       "      <th>50%</th>\n",
       "      <td>45.367250</td>\n",
       "      <td>63.844888</td>\n",
       "      <td>111.699997</td>\n",
       "      <td>40.736891</td>\n",
       "      <td>111.363086</td>\n",
       "      <td>51.238592</td>\n",
       "      <td>1.544500</td>\n",
       "      <td>2800.390000</td>\n",
       "    </tr>\n",
       "    <tr>\n",
       "      <th>75%</th>\n",
       "      <td>59.486375</td>\n",
       "      <td>126.578839</td>\n",
       "      <td>119.970001</td>\n",
       "      <td>48.857207</td>\n",
       "      <td>118.568972</td>\n",
       "      <td>70.164089</td>\n",
       "      <td>1.881250</td>\n",
       "      <td>3724.697500</td>\n",
       "    </tr>\n",
       "    <tr>\n",
       "      <th>max</th>\n",
       "      <td>125.316002</td>\n",
       "      <td>267.383179</td>\n",
       "      <td>130.940002</td>\n",
       "      <td>76.558250</td>\n",
       "      <td>138.578766</td>\n",
       "      <td>110.481926</td>\n",
       "      <td>2.987000</td>\n",
       "      <td>4766.180000</td>\n",
       "    </tr>\n",
       "  </tbody>\n",
       "</table>\n",
       "</div>"
      ],
      "text/plain": [
       "           Google        MSFT         CVX      Oracle         IBM   Starbucks  \\\n",
       "count  100.000000  100.000000  100.000000  100.000000  100.000000  100.000000   \n",
       "mean    48.738647   90.786659  108.644800   42.657865  112.375547   55.860041   \n",
       "std     23.111562   64.513197   14.735341   10.504181   10.627036   21.248160   \n",
       "min     19.780607   23.786327   69.510002   26.397947   87.052704   23.969864   \n",
       "25%     28.763032   40.457835  101.705002   35.293926  105.666763   42.438245   \n",
       "50%     45.367250   63.844888  111.699997   40.736891  111.363086   51.238592   \n",
       "75%     59.486375  126.578839  119.970001   48.857207  118.568972   70.164089   \n",
       "max    125.316002  267.383179  130.940002   76.558250  138.578766  110.481926   \n",
       "\n",
       "              FVX       S&P500  \n",
       "count  100.000000   100.000000  \n",
       "mean     1.547660  2988.392400  \n",
       "std      0.675345   822.757385  \n",
       "min      0.215000  1920.030000  \n",
       "25%      1.211750  2228.825000  \n",
       "50%      1.544500  2800.390000  \n",
       "75%      1.881250  3724.697500  \n",
       "max      2.987000  4766.180000  "
      ]
     },
     "execution_count": 53,
     "metadata": {},
     "output_type": "execute_result"
    }
   ],
   "source": [
    "data.describe()"
   ]
  },
  {
   "cell_type": "code",
   "execution_count": 54,
   "id": "e8a50ca8",
   "metadata": {},
   "outputs": [],
   "source": [
    "returns=returns[1:]"
   ]
  },
  {
   "cell_type": "code",
   "execution_count": 55,
   "id": "c97e0075",
   "metadata": {},
   "outputs": [
    {
     "data": {
      "text/html": [
       "<div>\n",
       "<style scoped>\n",
       "    .dataframe tbody tr th:only-of-type {\n",
       "        vertical-align: middle;\n",
       "    }\n",
       "\n",
       "    .dataframe tbody tr th {\n",
       "        vertical-align: top;\n",
       "    }\n",
       "\n",
       "    .dataframe thead th {\n",
       "        text-align: right;\n",
       "    }\n",
       "</style>\n",
       "<table border=\"1\" class=\"dataframe\">\n",
       "  <thead>\n",
       "    <tr style=\"text-align: right;\">\n",
       "      <th></th>\n",
       "      <th>Google</th>\n",
       "      <th>MSFT</th>\n",
       "      <th>CVX</th>\n",
       "      <th>Oracle</th>\n",
       "      <th>IBM</th>\n",
       "      <th>Starbucks</th>\n",
       "      <th>FVX</th>\n",
       "      <th>S&amp;P500</th>\n",
       "    </tr>\n",
       "  </thead>\n",
       "  <tbody>\n",
       "    <tr>\n",
       "      <th>86</th>\n",
       "      <td>-0.093873</td>\n",
       "      <td>-0.139492</td>\n",
       "      <td>0.057744</td>\n",
       "      <td>0.072932</td>\n",
       "      <td>0.108365</td>\n",
       "      <td>-0.037497</td>\n",
       "      <td>-0.052697</td>\n",
       "      <td>0.084391</td>\n",
       "    </tr>\n",
       "    <tr>\n",
       "      <th>62</th>\n",
       "      <td>0.393755</td>\n",
       "      <td>0.409541</td>\n",
       "      <td>-0.287522</td>\n",
       "      <td>-0.118522</td>\n",
       "      <td>-0.287946</td>\n",
       "      <td>0.699717</td>\n",
       "      <td>-0.126309</td>\n",
       "      <td>-0.388938</td>\n",
       "    </tr>\n",
       "    <tr>\n",
       "      <th>53</th>\n",
       "      <td>0.072468</td>\n",
       "      <td>0.193240</td>\n",
       "      <td>0.242042</td>\n",
       "      <td>0.195792</td>\n",
       "      <td>0.495891</td>\n",
       "      <td>-0.050172</td>\n",
       "      <td>0.408240</td>\n",
       "      <td>-0.026792</td>\n",
       "    </tr>\n",
       "    <tr>\n",
       "      <th>28</th>\n",
       "      <td>0.468317</td>\n",
       "      <td>0.851144</td>\n",
       "      <td>0.069514</td>\n",
       "      <td>0.239937</td>\n",
       "      <td>-0.098460</td>\n",
       "      <td>0.036065</td>\n",
       "      <td>0.568085</td>\n",
       "      <td>-0.127981</td>\n",
       "    </tr>\n",
       "    <tr>\n",
       "      <th>31</th>\n",
       "      <td>-0.045789</td>\n",
       "      <td>-0.030428</td>\n",
       "      <td>-0.060204</td>\n",
       "      <td>-0.050498</td>\n",
       "      <td>-0.178163</td>\n",
       "      <td>0.173821</td>\n",
       "      <td>-0.034939</td>\n",
       "      <td>-0.019517</td>\n",
       "    </tr>\n",
       "  </tbody>\n",
       "</table>\n",
       "</div>"
      ],
      "text/plain": [
       "      Google      MSFT       CVX    Oracle       IBM  Starbucks       FVX  \\\n",
       "86 -0.093873 -0.139492  0.057744  0.072932  0.108365  -0.037497 -0.052697   \n",
       "62  0.393755  0.409541 -0.287522 -0.118522 -0.287946   0.699717 -0.126309   \n",
       "53  0.072468  0.193240  0.242042  0.195792  0.495891  -0.050172  0.408240   \n",
       "28  0.468317  0.851144  0.069514  0.239937 -0.098460   0.036065  0.568085   \n",
       "31 -0.045789 -0.030428 -0.060204 -0.050498 -0.178163   0.173821 -0.034939   \n",
       "\n",
       "      S&P500  \n",
       "86  0.084391  \n",
       "62 -0.388938  \n",
       "53 -0.026792  \n",
       "28 -0.127981  \n",
       "31 -0.019517  "
      ]
     },
     "execution_count": 55,
     "metadata": {},
     "output_type": "execute_result"
    }
   ],
   "source": [
    "returns.head()"
   ]
  },
  {
   "cell_type": "code",
   "execution_count": 56,
   "id": "c0e8a22f",
   "metadata": {},
   "outputs": [],
   "source": [
    "returns['Intercept']=1   # useful when calculating factor models"
   ]
  },
  {
   "cell_type": "markdown",
   "id": "c95178fe",
   "metadata": {},
   "source": [
    "### Estimating Historical Risk\n",
    "\n",
    "Standard Deviation of Portfolio, Covariance Matrix makes this easy."
   ]
  },
  {
   "cell_type": "code",
   "execution_count": 57,
   "id": "c3bb9957",
   "metadata": {},
   "outputs": [],
   "source": [
    "stocknames=['Google','MSFT','CVX','Oracle','IBM','Starbucks']    //these lists can be used to subset our original dataframe"
   ]
  },
  {
   "cell_type": "code",
   "execution_count": 58,
   "id": "03a221fc",
   "metadata": {},
   "outputs": [],
   "source": [
    "factornames=['FVX','S&P500','Intercept']"
   ]
  },
  {
   "cell_type": "code",
   "execution_count": 59,
   "id": "91303b89",
   "metadata": {},
   "outputs": [],
   "source": [
    "stockReturns=returns[stocknames]"
   ]
  },
  {
   "cell_type": "code",
   "execution_count": 60,
   "id": "344efb60",
   "metadata": {},
   "outputs": [
    {
     "data": {
      "text/html": [
       "<div>\n",
       "<style scoped>\n",
       "    .dataframe tbody tr th:only-of-type {\n",
       "        vertical-align: middle;\n",
       "    }\n",
       "\n",
       "    .dataframe tbody tr th {\n",
       "        vertical-align: top;\n",
       "    }\n",
       "\n",
       "    .dataframe thead th {\n",
       "        text-align: right;\n",
       "    }\n",
       "</style>\n",
       "<table border=\"1\" class=\"dataframe\">\n",
       "  <thead>\n",
       "    <tr style=\"text-align: right;\">\n",
       "      <th></th>\n",
       "      <th>Google</th>\n",
       "      <th>MSFT</th>\n",
       "      <th>CVX</th>\n",
       "      <th>Oracle</th>\n",
       "      <th>IBM</th>\n",
       "      <th>Starbucks</th>\n",
       "    </tr>\n",
       "  </thead>\n",
       "  <tbody>\n",
       "    <tr>\n",
       "      <th>86</th>\n",
       "      <td>-0.093873</td>\n",
       "      <td>-0.139492</td>\n",
       "      <td>0.057744</td>\n",
       "      <td>0.072932</td>\n",
       "      <td>0.108365</td>\n",
       "      <td>-0.037497</td>\n",
       "    </tr>\n",
       "    <tr>\n",
       "      <th>62</th>\n",
       "      <td>0.393755</td>\n",
       "      <td>0.409541</td>\n",
       "      <td>-0.287522</td>\n",
       "      <td>-0.118522</td>\n",
       "      <td>-0.287946</td>\n",
       "      <td>0.699717</td>\n",
       "    </tr>\n",
       "    <tr>\n",
       "      <th>53</th>\n",
       "      <td>0.072468</td>\n",
       "      <td>0.193240</td>\n",
       "      <td>0.242042</td>\n",
       "      <td>0.195792</td>\n",
       "      <td>0.495891</td>\n",
       "      <td>-0.050172</td>\n",
       "    </tr>\n",
       "    <tr>\n",
       "      <th>28</th>\n",
       "      <td>0.468317</td>\n",
       "      <td>0.851144</td>\n",
       "      <td>0.069514</td>\n",
       "      <td>0.239937</td>\n",
       "      <td>-0.098460</td>\n",
       "      <td>0.036065</td>\n",
       "    </tr>\n",
       "    <tr>\n",
       "      <th>31</th>\n",
       "      <td>-0.045789</td>\n",
       "      <td>-0.030428</td>\n",
       "      <td>-0.060204</td>\n",
       "      <td>-0.050498</td>\n",
       "      <td>-0.178163</td>\n",
       "      <td>0.173821</td>\n",
       "    </tr>\n",
       "  </tbody>\n",
       "</table>\n",
       "</div>"
      ],
      "text/plain": [
       "      Google      MSFT       CVX    Oracle       IBM  Starbucks\n",
       "86 -0.093873 -0.139492  0.057744  0.072932  0.108365  -0.037497\n",
       "62  0.393755  0.409541 -0.287522 -0.118522 -0.287946   0.699717\n",
       "53  0.072468  0.193240  0.242042  0.195792  0.495891  -0.050172\n",
       "28  0.468317  0.851144  0.069514  0.239937 -0.098460   0.036065\n",
       "31 -0.045789 -0.030428 -0.060204 -0.050498 -0.178163   0.173821"
      ]
     },
     "execution_count": 60,
     "metadata": {},
     "output_type": "execute_result"
    }
   ],
   "source": [
    "stockReturns.head()"
   ]
  },
  {
   "cell_type": "code",
   "execution_count": 61,
   "id": "6fcad2f8",
   "metadata": {},
   "outputs": [],
   "source": [
    "factorReturns=returns[factornames]"
   ]
  },
  {
   "cell_type": "code",
   "execution_count": 62,
   "id": "62e6f40e",
   "metadata": {},
   "outputs": [
    {
     "data": {
      "text/html": [
       "<div>\n",
       "<style scoped>\n",
       "    .dataframe tbody tr th:only-of-type {\n",
       "        vertical-align: middle;\n",
       "    }\n",
       "\n",
       "    .dataframe tbody tr th {\n",
       "        vertical-align: top;\n",
       "    }\n",
       "\n",
       "    .dataframe thead th {\n",
       "        text-align: right;\n",
       "    }\n",
       "</style>\n",
       "<table border=\"1\" class=\"dataframe\">\n",
       "  <thead>\n",
       "    <tr style=\"text-align: right;\">\n",
       "      <th></th>\n",
       "      <th>FVX</th>\n",
       "      <th>S&amp;P500</th>\n",
       "      <th>Intercept</th>\n",
       "    </tr>\n",
       "  </thead>\n",
       "  <tbody>\n",
       "    <tr>\n",
       "      <th>86</th>\n",
       "      <td>-0.052697</td>\n",
       "      <td>0.084391</td>\n",
       "      <td>1</td>\n",
       "    </tr>\n",
       "    <tr>\n",
       "      <th>62</th>\n",
       "      <td>-0.126309</td>\n",
       "      <td>-0.388938</td>\n",
       "      <td>1</td>\n",
       "    </tr>\n",
       "    <tr>\n",
       "      <th>53</th>\n",
       "      <td>0.408240</td>\n",
       "      <td>-0.026792</td>\n",
       "      <td>1</td>\n",
       "    </tr>\n",
       "    <tr>\n",
       "      <th>28</th>\n",
       "      <td>0.568085</td>\n",
       "      <td>-0.127981</td>\n",
       "      <td>1</td>\n",
       "    </tr>\n",
       "    <tr>\n",
       "      <th>31</th>\n",
       "      <td>-0.034939</td>\n",
       "      <td>-0.019517</td>\n",
       "      <td>1</td>\n",
       "    </tr>\n",
       "  </tbody>\n",
       "</table>\n",
       "</div>"
      ],
      "text/plain": [
       "         FVX    S&P500  Intercept\n",
       "86 -0.052697  0.084391          1\n",
       "62 -0.126309 -0.388938          1\n",
       "53  0.408240 -0.026792          1\n",
       "28  0.568085 -0.127981          1\n",
       "31 -0.034939 -0.019517          1"
      ]
     },
     "execution_count": 62,
     "metadata": {},
     "output_type": "execute_result"
    }
   ],
   "source": [
    "factorReturns.head()"
   ]
  },
  {
   "cell_type": "markdown",
   "id": "9c5ff905",
   "metadata": {},
   "source": [
    "Time to define an actual portfolio"
   ]
  },
  {
   "cell_type": "code",
   "execution_count": 63,
   "id": "8f18fcca",
   "metadata": {},
   "outputs": [],
   "source": [
    "#hence weight vectors          #equal dollar weighted portfolio\n",
    "\n",
    "weights=np.array([1.0/len(stocknames)]*len(stocknames))         "
   ]
  },
  {
   "cell_type": "code",
   "execution_count": 64,
   "id": "b1b4f2ba",
   "metadata": {},
   "outputs": [
    {
     "data": {
      "text/plain": [
       "array([0.16666667, 0.16666667, 0.16666667, 0.16666667, 0.16666667,\n",
       "       0.16666667])"
      ]
     },
     "execution_count": 64,
     "metadata": {},
     "output_type": "execute_result"
    }
   ],
   "source": [
    "weights"
   ]
  },
  {
   "cell_type": "markdown",
   "id": "bd7788a3",
   "metadata": {},
   "source": [
    " #### Variance of the portfolio can be found by multiplying the weight vector with the covariance matrix.\n",
    " \n",
    " ####              V(P)= W*Cov(Y)*Wt\n",
    " Where Y is the covariance matrix of the original stocks\n",
    " W is weight vector."
   ]
  },
  {
   "cell_type": "code",
   "execution_count": 65,
   "id": "7204f0b7",
   "metadata": {},
   "outputs": [],
   "source": [
    "historicalTotalRisk= np.dot(np.dot(weights,stockReturns.cov()),weights.T)  # .cov method returns the covariance matrix of a DF, .T for transpose"
   ]
  },
  {
   "cell_type": "code",
   "execution_count": 66,
   "id": "4497d957",
   "metadata": {},
   "outputs": [
    {
     "data": {
      "text/plain": [
       "0.041832163744068215"
      ]
     },
     "execution_count": 66,
     "metadata": {},
     "output_type": "execute_result"
    }
   ],
   "source": [
    "historicalTotalRisk"
   ]
  },
  {
   "cell_type": "markdown",
   "id": "adf4dc4d",
   "metadata": {},
   "source": [
    "### Building Factor Models\n",
    "I'll perform a Factor Analysis, we'll decompose our portfolio into 2 components: Systemic and Idiosyncratic Risks. For this, i'll build indivisual factor models for each stock in this portfolio"
   ]
  },
  {
   "cell_type": "code",
   "execution_count": 69,
   "id": "d0a9d821",
   "metadata": {},
   "outputs": [
    {
     "name": "stdout",
     "output_type": "stream",
     "text": [
      "Collecting statsmodels\n",
      "  Downloading statsmodels-0.13.5-cp39-cp39-win_amd64.whl (9.2 MB)\n",
      "     ---------------------------------------- 9.2/9.2 MB 983.0 kB/s eta 0:00:00\n",
      "Requirement already satisfied: pandas>=0.25 in c:\\users\\aakri\\anaconda3\\envs\\pythonprojects\\lib\\site-packages (from statsmodels) (1.4.3)\n",
      "Requirement already satisfied: numpy>=1.17 in c:\\users\\aakri\\anaconda3\\envs\\pythonprojects\\lib\\site-packages (from statsmodels) (1.22.3)\n",
      "Collecting patsy>=0.5.2\n",
      "  Downloading patsy-0.5.3-py2.py3-none-any.whl (233 kB)\n",
      "     ------------------------------------ 233.8/233.8 kB 493.6 kB/s eta 0:00:00\n",
      "Requirement already satisfied: packaging>=21.3 in c:\\users\\aakri\\anaconda3\\envs\\pythonprojects\\lib\\site-packages (from statsmodels) (21.3)\n",
      "Requirement already satisfied: scipy>=1.3 in c:\\users\\aakri\\anaconda3\\envs\\pythonprojects\\lib\\site-packages (from statsmodels) (1.7.3)\n",
      "Requirement already satisfied: pyparsing!=3.0.5,>=2.0.2 in c:\\users\\aakri\\anaconda3\\envs\\pythonprojects\\lib\\site-packages (from packaging>=21.3->statsmodels) (3.0.4)\n",
      "Requirement already satisfied: python-dateutil>=2.8.1 in c:\\users\\aakri\\anaconda3\\envs\\pythonprojects\\lib\\site-packages (from pandas>=0.25->statsmodels) (2.8.2)\n",
      "Requirement already satisfied: pytz>=2020.1 in c:\\users\\aakri\\anaconda3\\envs\\pythonprojects\\lib\\site-packages (from pandas>=0.25->statsmodels) (2022.1)\n",
      "Requirement already satisfied: six in c:\\users\\aakri\\anaconda3\\envs\\pythonprojects\\lib\\site-packages (from patsy>=0.5.2->statsmodels) (1.16.0)\n",
      "Installing collected packages: patsy, statsmodels\n",
      "Successfully installed patsy-0.5.3 statsmodels-0.13.5\n",
      "Note: you may need to restart the kernel to use updated packages.\n"
     ]
    }
   ],
   "source": [
    "pip install statsmodels \n"
   ]
  },
  {
   "cell_type": "code",
   "execution_count": 71,
   "id": "f086623d",
   "metadata": {},
   "outputs": [],
   "source": [
    "import statsmodels.api as sm"
   ]
  },
  {
   "cell_type": "code",
   "execution_count": 73,
   "id": "acc5d963",
   "metadata": {},
   "outputs": [],
   "source": [
    "xData=factorReturns"
   ]
  },
  {
   "cell_type": "code",
   "execution_count": 74,
   "id": "d655e8b9",
   "metadata": {},
   "outputs": [
    {
     "data": {
      "text/html": [
       "<div>\n",
       "<style scoped>\n",
       "    .dataframe tbody tr th:only-of-type {\n",
       "        vertical-align: middle;\n",
       "    }\n",
       "\n",
       "    .dataframe tbody tr th {\n",
       "        vertical-align: top;\n",
       "    }\n",
       "\n",
       "    .dataframe thead th {\n",
       "        text-align: right;\n",
       "    }\n",
       "</style>\n",
       "<table border=\"1\" class=\"dataframe\">\n",
       "  <thead>\n",
       "    <tr style=\"text-align: right;\">\n",
       "      <th></th>\n",
       "      <th>FVX</th>\n",
       "      <th>S&amp;P500</th>\n",
       "      <th>Intercept</th>\n",
       "    </tr>\n",
       "  </thead>\n",
       "  <tbody>\n",
       "    <tr>\n",
       "      <th>86</th>\n",
       "      <td>-0.052697</td>\n",
       "      <td>0.084391</td>\n",
       "      <td>1</td>\n",
       "    </tr>\n",
       "    <tr>\n",
       "      <th>62</th>\n",
       "      <td>-0.126309</td>\n",
       "      <td>-0.388938</td>\n",
       "      <td>1</td>\n",
       "    </tr>\n",
       "    <tr>\n",
       "      <th>53</th>\n",
       "      <td>0.408240</td>\n",
       "      <td>-0.026792</td>\n",
       "      <td>1</td>\n",
       "    </tr>\n",
       "    <tr>\n",
       "      <th>28</th>\n",
       "      <td>0.568085</td>\n",
       "      <td>-0.127981</td>\n",
       "      <td>1</td>\n",
       "    </tr>\n",
       "    <tr>\n",
       "      <th>31</th>\n",
       "      <td>-0.034939</td>\n",
       "      <td>-0.019517</td>\n",
       "      <td>1</td>\n",
       "    </tr>\n",
       "  </tbody>\n",
       "</table>\n",
       "</div>"
      ],
      "text/plain": [
       "         FVX    S&P500  Intercept\n",
       "86 -0.052697  0.084391          1\n",
       "62 -0.126309 -0.388938          1\n",
       "53  0.408240 -0.026792          1\n",
       "28  0.568085 -0.127981          1\n",
       "31 -0.034939 -0.019517          1"
      ]
     },
     "execution_count": 74,
     "metadata": {},
     "output_type": "execute_result"
    }
   ],
   "source": [
    "xData.head()      #statsmodel doesn't include an intercept while performing regression, therfore the extra Intercept column"
   ]
  },
  {
   "cell_type": "code",
   "execution_count": 75,
   "id": "800348c1",
   "metadata": {},
   "outputs": [],
   "source": [
    "modelCoeffs=[]"
   ]
  },
  {
   "cell_type": "code",
   "execution_count": 78,
   "id": "5d73dc4e",
   "metadata": {},
   "outputs": [
    {
     "name": "stdout",
     "output_type": "stream",
     "text": [
      "                            OLS Regression Results                            \n",
      "==============================================================================\n",
      "Dep. Variable:                 Google   R-squared:                       0.715\n",
      "Model:                            OLS   Adj. R-squared:                  0.709\n",
      "Method:                 Least Squares   F-statistic:                     120.6\n",
      "Date:                Thu, 09 Feb 2023   Prob (F-statistic):           6.52e-27\n",
      "Time:                        16:14:50   Log-Likelihood:                 25.201\n",
      "No. Observations:                  99   AIC:                            -44.40\n",
      "Df Residuals:                      96   BIC:                            -36.62\n",
      "Df Model:                           2                                         \n",
      "Covariance Type:            nonrobust                                         \n",
      "==============================================================================\n",
      "                 coef    std err          t      P>|t|      [0.025      0.975]\n",
      "------------------------------------------------------------------------------\n",
      "FVX            0.0481      0.027      1.806      0.074      -0.005       0.101\n",
      "S&P500        -0.9569      0.076    -12.622      0.000      -1.107      -0.806\n",
      "Intercept      0.1330      0.020      6.660      0.000       0.093       0.173\n",
      "==============================================================================\n",
      "Omnibus:                       26.765   Durbin-Watson:                   2.677\n",
      "Prob(Omnibus):                  0.000   Jarque-Bera (JB):               42.028\n",
      "Skew:                           1.194   Prob(JB):                     7.48e-10\n",
      "Kurtosis:                       5.118   Cond. No.                         4.66\n",
      "==============================================================================\n",
      "\n",
      "Notes:\n",
      "[1] Standard Errors assume that the covariance matrix of the errors is correctly specified.\n",
      "                            OLS Regression Results                            \n",
      "==============================================================================\n",
      "Dep. Variable:                   MSFT   R-squared:                       0.694\n",
      "Model:                            OLS   Adj. R-squared:                  0.688\n",
      "Method:                 Least Squares   F-statistic:                     109.1\n",
      "Date:                Thu, 09 Feb 2023   Prob (F-statistic):           1.93e-25\n",
      "Time:                        16:14:50   Log-Likelihood:                -6.3793\n",
      "No. Observations:                  99   AIC:                             18.76\n",
      "Df Residuals:                      96   BIC:                             26.54\n",
      "Df Model:                           2                                         \n",
      "Covariance Type:            nonrobust                                         \n",
      "==============================================================================\n",
      "                 coef    std err          t      P>|t|      [0.025      0.975]\n",
      "------------------------------------------------------------------------------\n",
      "FVX           -0.0002      0.037     -0.005      0.996      -0.073       0.073\n",
      "S&P500        -1.1389      0.104    -10.920      0.000      -1.346      -0.932\n",
      "Intercept      0.2473      0.027      8.999      0.000       0.193       0.302\n",
      "==============================================================================\n",
      "Omnibus:                        3.576   Durbin-Watson:                   2.691\n",
      "Prob(Omnibus):                  0.167   Jarque-Bera (JB):                3.382\n",
      "Skew:                           0.452   Prob(JB):                        0.184\n",
      "Kurtosis:                       2.942   Cond. No.                         4.66\n",
      "==============================================================================\n",
      "\n",
      "Notes:\n",
      "[1] Standard Errors assume that the covariance matrix of the errors is correctly specified.\n",
      "                            OLS Regression Results                            \n",
      "==============================================================================\n",
      "Dep. Variable:                    CVX   R-squared:                       0.397\n",
      "Model:                            OLS   Adj. R-squared:                  0.384\n",
      "Method:                 Least Squares   F-statistic:                     31.54\n",
      "Date:                Thu, 09 Feb 2023   Prob (F-statistic):           2.96e-11\n",
      "Time:                        16:14:50   Log-Likelihood:                 39.841\n",
      "No. Observations:                  99   AIC:                            -73.68\n",
      "Df Residuals:                      96   BIC:                            -65.90\n",
      "Df Model:                           2                                         \n",
      "Covariance Type:            nonrobust                                         \n",
      "==============================================================================\n",
      "                 coef    std err          t      P>|t|      [0.025      0.975]\n",
      "------------------------------------------------------------------------------\n",
      "FVX            0.0826      0.023      3.594      0.001       0.037       0.128\n",
      "S&P500         0.1843      0.065      2.819      0.006       0.055       0.314\n",
      "Intercept     -0.0100      0.017     -0.580      0.563      -0.044       0.024\n",
      "==============================================================================\n",
      "Omnibus:                        3.499   Durbin-Watson:                   2.510\n",
      "Prob(Omnibus):                  0.174   Jarque-Bera (JB):                3.303\n",
      "Skew:                           0.202   Prob(JB):                        0.192\n",
      "Kurtosis:                       3.798   Cond. No.                         4.66\n",
      "==============================================================================\n",
      "\n",
      "Notes:\n",
      "[1] Standard Errors assume that the covariance matrix of the errors is correctly specified.\n",
      "                            OLS Regression Results                            \n",
      "==============================================================================\n",
      "Dep. Variable:                 Oracle   R-squared:                       0.491\n",
      "Model:                            OLS   Adj. R-squared:                  0.480\n",
      "Method:                 Least Squares   F-statistic:                     46.28\n",
      "Date:                Thu, 09 Feb 2023   Prob (F-statistic):           8.46e-15\n",
      "Time:                        16:14:50   Log-Likelihood:                 33.265\n",
      "No. Observations:                  99   AIC:                            -60.53\n",
      "Df Residuals:                      96   BIC:                            -52.74\n",
      "Df Model:                           2                                         \n",
      "Covariance Type:            nonrobust                                         \n",
      "==============================================================================\n",
      "                 coef    std err          t      P>|t|      [0.025      0.975]\n",
      "------------------------------------------------------------------------------\n",
      "FVX            0.0369      0.025      1.504      0.136      -0.012       0.086\n",
      "S&P500        -0.5618      0.070     -8.040      0.000      -0.701      -0.423\n",
      "Intercept      0.0534      0.018      2.899      0.005       0.017       0.090\n",
      "==============================================================================\n",
      "Omnibus:                        2.473   Durbin-Watson:                   2.885\n",
      "Prob(Omnibus):                  0.290   Jarque-Bera (JB):                2.054\n",
      "Skew:                           0.349   Prob(JB):                        0.358\n",
      "Kurtosis:                       3.107   Cond. No.                         4.66\n",
      "==============================================================================\n",
      "\n",
      "Notes:\n",
      "[1] Standard Errors assume that the covariance matrix of the errors is correctly specified.\n",
      "                            OLS Regression Results                            \n",
      "==============================================================================\n",
      "Dep. Variable:                    IBM   R-squared:                       0.154\n",
      "Model:                            OLS   Adj. R-squared:                  0.136\n",
      "Method:                 Least Squares   F-statistic:                     8.741\n",
      "Date:                Thu, 09 Feb 2023   Prob (F-statistic):           0.000325\n",
      "Time:                        16:14:50   Log-Likelihood:                 61.964\n",
      "No. Observations:                  99   AIC:                            -117.9\n",
      "Df Residuals:                      96   BIC:                            -110.1\n",
      "Df Model:                           2                                         \n",
      "Covariance Type:            nonrobust                                         \n",
      "==============================================================================\n",
      "                 coef    std err          t      P>|t|      [0.025      0.975]\n",
      "------------------------------------------------------------------------------\n",
      "FVX            0.0017      0.018      0.095      0.925      -0.035       0.038\n",
      "S&P500         0.1583      0.052      3.028      0.003       0.055       0.262\n",
      "Intercept      0.0035      0.014      0.257      0.797      -0.024       0.031\n",
      "==============================================================================\n",
      "Omnibus:                       13.630   Durbin-Watson:                   2.909\n",
      "Prob(Omnibus):                  0.001   Jarque-Bera (JB):               15.996\n",
      "Skew:                           0.754   Prob(JB):                     0.000336\n",
      "Kurtosis:                       4.266   Cond. No.                         4.66\n",
      "==============================================================================\n",
      "\n",
      "Notes:\n",
      "[1] Standard Errors assume that the covariance matrix of the errors is correctly specified.\n",
      "                            OLS Regression Results                            \n",
      "==============================================================================\n",
      "Dep. Variable:              Starbucks   R-squared:                       0.661\n",
      "Model:                            OLS   Adj. R-squared:                  0.654\n",
      "Method:                 Least Squares   F-statistic:                     93.62\n",
      "Date:                Thu, 09 Feb 2023   Prob (F-statistic):           2.79e-23\n",
      "Time:                        16:14:50   Log-Likelihood:                 12.555\n",
      "No. Observations:                  99   AIC:                            -19.11\n",
      "Df Residuals:                      96   BIC:                            -11.32\n",
      "Df Model:                           2                                         \n",
      "Covariance Type:            nonrobust                                         \n",
      "==============================================================================\n",
      "                 coef    std err          t      P>|t|      [0.025      0.975]\n",
      "------------------------------------------------------------------------------\n",
      "FVX            0.0601      0.030      1.986      0.050    3.57e-05       0.120\n",
      "S&P500        -0.9776      0.086    -11.349      0.000      -1.149      -0.807\n",
      "Intercept      0.1146      0.023      5.047      0.000       0.070       0.160\n",
      "==============================================================================\n",
      "Omnibus:                        9.023   Durbin-Watson:                   2.328\n",
      "Prob(Omnibus):                  0.011   Jarque-Bera (JB):                9.264\n",
      "Skew:                           0.747   Prob(JB):                      0.00974\n",
      "Kurtosis:                       3.128   Cond. No.                         4.66\n",
      "==============================================================================\n",
      "\n",
      "Notes:\n",
      "[1] Standard Errors assume that the covariance matrix of the errors is correctly specified.\n"
     ]
    }
   ],
   "source": [
    "for oneStockName in stocknames: \n",
    "    yData= stockReturns[oneStockName]            #list of returns for each corresponding stock\n",
    "    model=sm.OLS(yData,xData)                    #Returns a simple Linear Regression Model\n",
    "    result=model.fit()                           \n",
    "    modelCoeffRow= list(result.params)           #Extracting the result of the regression itself\n",
    "    modelCoeffRow.append(np.std(result.resid,ddof=1))           # Std Devs of the residuals of the regression, ddof=1 for Bessel's Correction\n",
    "    modelCoeffs.append(modelCoeffRow)                \n",
    "    print(result.summary())"
   ]
  },
  {
   "cell_type": "code",
   "execution_count": 80,
   "id": "d90947aa",
   "metadata": {},
   "outputs": [],
   "source": [
    "modelCoeffs=pd.DataFrame(modelCoeffs)"
   ]
  },
  {
   "cell_type": "code",
   "execution_count": 81,
   "id": "c1b9b3f5",
   "metadata": {},
   "outputs": [
    {
     "data": {
      "text/html": [
       "<div>\n",
       "<style scoped>\n",
       "    .dataframe tbody tr th:only-of-type {\n",
       "        vertical-align: middle;\n",
       "    }\n",
       "\n",
       "    .dataframe tbody tr th {\n",
       "        vertical-align: top;\n",
       "    }\n",
       "\n",
       "    .dataframe thead th {\n",
       "        text-align: right;\n",
       "    }\n",
       "</style>\n",
       "<table border=\"1\" class=\"dataframe\">\n",
       "  <thead>\n",
       "    <tr style=\"text-align: right;\">\n",
       "      <th></th>\n",
       "      <th>0</th>\n",
       "      <th>1</th>\n",
       "      <th>2</th>\n",
       "      <th>3</th>\n",
       "    </tr>\n",
       "  </thead>\n",
       "  <tbody>\n",
       "    <tr>\n",
       "      <th>0</th>\n",
       "      <td>0.048135</td>\n",
       "      <td>-0.956893</td>\n",
       "      <td>0.133040</td>\n",
       "      <td>0.188545</td>\n",
       "    </tr>\n",
       "    <tr>\n",
       "      <th>1</th>\n",
       "      <td>-0.000195</td>\n",
       "      <td>-1.138901</td>\n",
       "      <td>0.247335</td>\n",
       "      <td>0.259389</td>\n",
       "    </tr>\n",
       "    <tr>\n",
       "      <th>2</th>\n",
       "      <td>0.082606</td>\n",
       "      <td>0.184348</td>\n",
       "      <td>-0.009996</td>\n",
       "      <td>0.162628</td>\n",
       "    </tr>\n",
       "    <tr>\n",
       "      <th>3</th>\n",
       "      <td>0.036939</td>\n",
       "      <td>-0.561843</td>\n",
       "      <td>0.053375</td>\n",
       "      <td>0.173797</td>\n",
       "    </tr>\n",
       "    <tr>\n",
       "      <th>4</th>\n",
       "      <td>0.001739</td>\n",
       "      <td>0.158340</td>\n",
       "      <td>0.003548</td>\n",
       "      <td>0.130060</td>\n",
       "    </tr>\n",
       "    <tr>\n",
       "      <th>5</th>\n",
       "      <td>0.060142</td>\n",
       "      <td>-0.977639</td>\n",
       "      <td>0.114568</td>\n",
       "      <td>0.214236</td>\n",
       "    </tr>\n",
       "  </tbody>\n",
       "</table>\n",
       "</div>"
      ],
      "text/plain": [
       "          0         1         2         3\n",
       "0  0.048135 -0.956893  0.133040  0.188545\n",
       "1 -0.000195 -1.138901  0.247335  0.259389\n",
       "2  0.082606  0.184348 -0.009996  0.162628\n",
       "3  0.036939 -0.561843  0.053375  0.173797\n",
       "4  0.001739  0.158340  0.003548  0.130060\n",
       "5  0.060142 -0.977639  0.114568  0.214236"
      ]
     },
     "execution_count": 81,
     "metadata": {},
     "output_type": "execute_result"
    }
   ],
   "source": [
    "modelCoeffs"
   ]
  },
  {
   "cell_type": "code",
   "execution_count": 82,
   "id": "c860360a",
   "metadata": {},
   "outputs": [],
   "source": [
    "modelCoeffs.columns= ['B_SP','B_FVX',\"Alpha\",\"ResidVol\"]"
   ]
  },
  {
   "cell_type": "code",
   "execution_count": 83,
   "id": "88deca4f",
   "metadata": {},
   "outputs": [
    {
     "data": {
      "text/html": [
       "<div>\n",
       "<style scoped>\n",
       "    .dataframe tbody tr th:only-of-type {\n",
       "        vertical-align: middle;\n",
       "    }\n",
       "\n",
       "    .dataframe tbody tr th {\n",
       "        vertical-align: top;\n",
       "    }\n",
       "\n",
       "    .dataframe thead th {\n",
       "        text-align: right;\n",
       "    }\n",
       "</style>\n",
       "<table border=\"1\" class=\"dataframe\">\n",
       "  <thead>\n",
       "    <tr style=\"text-align: right;\">\n",
       "      <th></th>\n",
       "      <th>B_SP</th>\n",
       "      <th>B_FVX</th>\n",
       "      <th>Alpha</th>\n",
       "      <th>ResidVol</th>\n",
       "    </tr>\n",
       "  </thead>\n",
       "  <tbody>\n",
       "    <tr>\n",
       "      <th>0</th>\n",
       "      <td>0.048135</td>\n",
       "      <td>-0.956893</td>\n",
       "      <td>0.133040</td>\n",
       "      <td>0.188545</td>\n",
       "    </tr>\n",
       "    <tr>\n",
       "      <th>1</th>\n",
       "      <td>-0.000195</td>\n",
       "      <td>-1.138901</td>\n",
       "      <td>0.247335</td>\n",
       "      <td>0.259389</td>\n",
       "    </tr>\n",
       "    <tr>\n",
       "      <th>2</th>\n",
       "      <td>0.082606</td>\n",
       "      <td>0.184348</td>\n",
       "      <td>-0.009996</td>\n",
       "      <td>0.162628</td>\n",
       "    </tr>\n",
       "    <tr>\n",
       "      <th>3</th>\n",
       "      <td>0.036939</td>\n",
       "      <td>-0.561843</td>\n",
       "      <td>0.053375</td>\n",
       "      <td>0.173797</td>\n",
       "    </tr>\n",
       "    <tr>\n",
       "      <th>4</th>\n",
       "      <td>0.001739</td>\n",
       "      <td>0.158340</td>\n",
       "      <td>0.003548</td>\n",
       "      <td>0.130060</td>\n",
       "    </tr>\n",
       "    <tr>\n",
       "      <th>5</th>\n",
       "      <td>0.060142</td>\n",
       "      <td>-0.977639</td>\n",
       "      <td>0.114568</td>\n",
       "      <td>0.214236</td>\n",
       "    </tr>\n",
       "  </tbody>\n",
       "</table>\n",
       "</div>"
      ],
      "text/plain": [
       "       B_SP     B_FVX     Alpha  ResidVol\n",
       "0  0.048135 -0.956893  0.133040  0.188545\n",
       "1 -0.000195 -1.138901  0.247335  0.259389\n",
       "2  0.082606  0.184348 -0.009996  0.162628\n",
       "3  0.036939 -0.561843  0.053375  0.173797\n",
       "4  0.001739  0.158340  0.003548  0.130060\n",
       "5  0.060142 -0.977639  0.114568  0.214236"
      ]
     },
     "execution_count": 83,
     "metadata": {},
     "output_type": "execute_result"
    }
   ],
   "source": [
    "modelCoeffs"
   ]
  },
  {
   "cell_type": "code",
   "execution_count": 85,
   "id": "54a4175b",
   "metadata": {},
   "outputs": [],
   "source": [
    "modelCoeffs[\"Names\"]=stocknames"
   ]
  },
  {
   "cell_type": "code",
   "execution_count": 86,
   "id": "78a6c80c",
   "metadata": {},
   "outputs": [
    {
     "data": {
      "text/html": [
       "<div>\n",
       "<style scoped>\n",
       "    .dataframe tbody tr th:only-of-type {\n",
       "        vertical-align: middle;\n",
       "    }\n",
       "\n",
       "    .dataframe tbody tr th {\n",
       "        vertical-align: top;\n",
       "    }\n",
       "\n",
       "    .dataframe thead th {\n",
       "        text-align: right;\n",
       "    }\n",
       "</style>\n",
       "<table border=\"1\" class=\"dataframe\">\n",
       "  <thead>\n",
       "    <tr style=\"text-align: right;\">\n",
       "      <th></th>\n",
       "      <th>B_SP</th>\n",
       "      <th>B_FVX</th>\n",
       "      <th>Alpha</th>\n",
       "      <th>ResidVol</th>\n",
       "      <th>Names</th>\n",
       "    </tr>\n",
       "  </thead>\n",
       "  <tbody>\n",
       "    <tr>\n",
       "      <th>0</th>\n",
       "      <td>0.048135</td>\n",
       "      <td>-0.956893</td>\n",
       "      <td>0.133040</td>\n",
       "      <td>0.188545</td>\n",
       "      <td>Google</td>\n",
       "    </tr>\n",
       "    <tr>\n",
       "      <th>1</th>\n",
       "      <td>-0.000195</td>\n",
       "      <td>-1.138901</td>\n",
       "      <td>0.247335</td>\n",
       "      <td>0.259389</td>\n",
       "      <td>MSFT</td>\n",
       "    </tr>\n",
       "    <tr>\n",
       "      <th>2</th>\n",
       "      <td>0.082606</td>\n",
       "      <td>0.184348</td>\n",
       "      <td>-0.009996</td>\n",
       "      <td>0.162628</td>\n",
       "      <td>CVX</td>\n",
       "    </tr>\n",
       "    <tr>\n",
       "      <th>3</th>\n",
       "      <td>0.036939</td>\n",
       "      <td>-0.561843</td>\n",
       "      <td>0.053375</td>\n",
       "      <td>0.173797</td>\n",
       "      <td>Oracle</td>\n",
       "    </tr>\n",
       "    <tr>\n",
       "      <th>4</th>\n",
       "      <td>0.001739</td>\n",
       "      <td>0.158340</td>\n",
       "      <td>0.003548</td>\n",
       "      <td>0.130060</td>\n",
       "      <td>IBM</td>\n",
       "    </tr>\n",
       "    <tr>\n",
       "      <th>5</th>\n",
       "      <td>0.060142</td>\n",
       "      <td>-0.977639</td>\n",
       "      <td>0.114568</td>\n",
       "      <td>0.214236</td>\n",
       "      <td>Starbucks</td>\n",
       "    </tr>\n",
       "  </tbody>\n",
       "</table>\n",
       "</div>"
      ],
      "text/plain": [
       "       B_SP     B_FVX     Alpha  ResidVol      Names\n",
       "0  0.048135 -0.956893  0.133040  0.188545     Google\n",
       "1 -0.000195 -1.138901  0.247335  0.259389       MSFT\n",
       "2  0.082606  0.184348 -0.009996  0.162628        CVX\n",
       "3  0.036939 -0.561843  0.053375  0.173797     Oracle\n",
       "4  0.001739  0.158340  0.003548  0.130060        IBM\n",
       "5  0.060142 -0.977639  0.114568  0.214236  Starbucks"
      ]
     },
     "execution_count": 86,
     "metadata": {},
     "output_type": "execute_result"
    }
   ],
   "source": [
    "modelCoeffs"
   ]
  },
  {
   "cell_type": "markdown",
   "id": "80a1b16b",
   "metadata": {},
   "source": [
    "#### We now have a nice dataframe encapsulating all the info required to calculate the systemic and idiosyncratic risk.\n",
    "\n",
    "##### Systemic Var(P) = W* B * Cov(F) * BT * WT\n",
    "\n",
    "B, this is the factor beta matrix.This has k rows and 2 columns, these correspond to the betas of each of our stocks on the FVX and the S&P repectively.\n",
    "\n",
    "y = A + B₁F₁ + B₂F2\n",
    "\n",
    "Cov(F) = [ Var(F₁) Cov(F1,F2) ]\n",
    "         [ Cov(F1,F2) Var(F2) ]                                 \n",
    "             \n",
    "Factor Covariance matrix, 2by2 matric bc we have 2 factors.     "
   ]
  },
  {
   "cell_type": "code",
   "execution_count": 88,
   "id": "acdc6734",
   "metadata": {},
   "outputs": [],
   "source": [
    "factorCov = factorReturns [[\"FVX\", \"S&P500\"]].cov()"
   ]
  },
  {
   "cell_type": "code",
   "execution_count": 89,
   "id": "7050ab0a",
   "metadata": {},
   "outputs": [
    {
     "data": {
      "text/html": [
       "<div>\n",
       "<style scoped>\n",
       "    .dataframe tbody tr th:only-of-type {\n",
       "        vertical-align: middle;\n",
       "    }\n",
       "\n",
       "    .dataframe tbody tr th {\n",
       "        vertical-align: top;\n",
       "    }\n",
       "\n",
       "    .dataframe thead th {\n",
       "        text-align: right;\n",
       "    }\n",
       "</style>\n",
       "<table border=\"1\" class=\"dataframe\">\n",
       "  <thead>\n",
       "    <tr style=\"text-align: right;\">\n",
       "      <th></th>\n",
       "      <th>FVX</th>\n",
       "      <th>S&amp;P500</th>\n",
       "    </tr>\n",
       "  </thead>\n",
       "  <tbody>\n",
       "    <tr>\n",
       "      <th>FVX</th>\n",
       "      <td>0.953295</td>\n",
       "      <td>0.225553</td>\n",
       "    </tr>\n",
       "    <tr>\n",
       "      <th>S&amp;P500</th>\n",
       "      <td>0.225553</td>\n",
       "      <td>0.117799</td>\n",
       "    </tr>\n",
       "  </tbody>\n",
       "</table>\n",
       "</div>"
      ],
      "text/plain": [
       "             FVX    S&P500\n",
       "FVX     0.953295  0.225553\n",
       "S&P500  0.225553  0.117799"
      ]
     },
     "execution_count": 89,
     "metadata": {},
     "output_type": "execute_result"
    }
   ],
   "source": [
    "factorCov"
   ]
  },
  {
   "cell_type": "code",
   "execution_count": 94,
   "id": "2687b535",
   "metadata": {},
   "outputs": [],
   "source": [
    " #Let's first calculate the matrix product of the three inner terms, i.e. B * Cov(F) * BT,   This will give us a reconstructed covariance matrix for the stocks in the portfolio\n",
    " #This is a k by k matrix.\n",
    "\n",
    "reconstructedCov = np.dot(np.dot(modelCoeffs[[\"B_FVX\", \"B_SP\"]], factorCov), modelCoeffs[[\"B_FVX\", \"B_SP\"]].T)\n",
    "    "
   ]
  },
  {
   "cell_type": "code",
   "execution_count": 95,
   "id": "2ef005b5",
   "metadata": {},
   "outputs": [
    {
     "data": {
      "text/plain": [
       "array([[ 0.8523745 ,  1.02658357, -0.18352116,  0.49865075, -0.14308393,\n",
       "         0.86855039],\n",
       "       [ 1.02658357,  1.23661569, -0.22137789,  0.60053253, -0.17236436,\n",
       "         1.04602391],\n",
       "       [-0.18352116, -0.22137789,  0.04007018, -0.10730979,  0.03086563,\n",
       "        -0.18693746],\n",
       "       [ 0.49865075,  0.60053253, -0.10730979,  0.29172248, -0.0837005 ,\n",
       "         0.50812014],\n",
       "       [-0.14308393, -0.17236436,  0.03086563, -0.0837005 ,  0.02402501,\n",
       "        -0.14579227],\n",
       "       [ 0.86855039,  1.04602391, -0.18693746,  0.50812014, -0.14579227,\n",
       "         0.88504119]])"
      ]
     },
     "execution_count": 95,
     "metadata": {},
     "output_type": "execute_result"
    }
   ],
   "source": [
    "reconstructedCov"
   ]
  },
  {
   "cell_type": "code",
   "execution_count": 102,
   "id": "ee58fd10",
   "metadata": {},
   "outputs": [],
   "source": [
    "#To calculate systemic risk, we simply pre-multiply reconstructed matrix by the weights and post-multiply it by the transpose of the weights\n",
    "systemicRisk = np.dot(np.dot(weights, reconstructedCov), weights.T)"
   ]
  },
  {
   "cell_type": "code",
   "execution_count": 100,
   "id": "78ed9956",
   "metadata": {},
   "outputs": [],
   "source": [
    "#P = W₁Y1+ W2Y2+W3Y3... + WkYk\n",
    "#IdiosyncraticVar(P) = Σ w^2 Var(e)\n",
    "\n",
    "#This is the product of squares of the weights multiplied by the volatility of the residuals. The residuals are obtained from each individual regression model that we built.\n",
    "\n",
    "idiosyncraticRisk = sum(modelCoeffs[\"ResidVol\"]*modelCoeffs[\"ResidVol\"]*weights*weights)\n",
    "\n"
   ]
  },
  {
   "cell_type": "code",
   "execution_count": 101,
   "id": "30cfb59e",
   "metadata": {},
   "outputs": [
    {
     "data": {
      "text/plain": [
       "0.006174940727671326"
      ]
     },
     "execution_count": 101,
     "metadata": {},
     "output_type": "execute_result"
    }
   ],
   "source": [
    "idiosyncraticRisk"
   ]
  },
  {
   "cell_type": "code",
   "execution_count": 103,
   "id": "050b725c",
   "metadata": {},
   "outputs": [
    {
     "data": {
      "text/plain": [
       "0.2777868941199702"
      ]
     },
     "execution_count": 103,
     "metadata": {},
     "output_type": "execute_result"
    }
   ],
   "source": [
    "systemicRisk"
   ]
  },
  {
   "cell_type": "code",
   "execution_count": 104,
   "id": "576da742",
   "metadata": {},
   "outputs": [],
   "source": [
    "factorModelTotalRisk = systemicRisk + idiosyncraticRisk\n"
   ]
  },
  {
   "cell_type": "code",
   "execution_count": 105,
   "id": "7e032eee",
   "metadata": {},
   "outputs": [
    {
     "data": {
      "text/plain": [
       "0.28396183484764154"
      ]
     },
     "execution_count": 105,
     "metadata": {},
     "output_type": "execute_result"
    }
   ],
   "source": [
    "factorModelTotalRisk"
   ]
  },
  {
   "cell_type": "markdown",
   "id": "9101300a",
   "metadata": {},
   "source": [
    "### Scenario Based Stress Testing\n",
    "This step is imp. because it leads to scenarios which lead to extreme combinations, we do this by taking the minimum factor returns on the FVX and the S&P, the corresponding maximum returns, and then generating scenarios with a certain step change.\n",
    "That step change corresponds to 5% on the FVX and 2% on the S&P. This might give some scenarios that might be too extreme\n",
    "\n"
   ]
  },
  {
   "cell_type": "code",
   "execution_count": 109,
   "id": "e00f7d0c",
   "metadata": {},
   "outputs": [],
   "source": [
    "fvxScenarios = np.arange(min(returns[\"FVX\"]),max(returns[\"FVX\"]),0.05)\n"
   ]
  },
  {
   "cell_type": "code",
   "execution_count": 110,
   "id": "b69a23d8",
   "metadata": {},
   "outputs": [
    {
     "data": {
      "text/plain": [
       "array([-0.88340564, -0.83340564, -0.78340564, -0.73340564, -0.68340564,\n",
       "       -0.63340564, -0.58340564, -0.53340564, -0.48340564, -0.43340564,\n",
       "       -0.38340564, -0.33340564, -0.28340564, -0.23340564, -0.18340564,\n",
       "       -0.13340564, -0.08340564, -0.03340564,  0.01659436,  0.06659436,\n",
       "        0.11659436,  0.16659436,  0.21659436,  0.26659436,  0.31659436,\n",
       "        0.36659436,  0.41659436,  0.46659436,  0.51659436,  0.56659436,\n",
       "        0.61659436,  0.66659436,  0.71659436,  0.76659436,  0.81659436,\n",
       "        0.86659436,  0.91659436,  0.96659436,  1.01659436,  1.06659436,\n",
       "        1.11659436,  1.16659436,  1.21659436,  1.26659436,  1.31659436,\n",
       "        1.36659436,  1.41659436,  1.46659436,  1.51659436,  1.56659436,\n",
       "        1.61659436,  1.66659436,  1.71659436,  1.76659436,  1.81659436,\n",
       "        1.86659436,  1.91659436,  1.96659436,  2.01659436,  2.06659436,\n",
       "        2.11659436,  2.16659436,  2.21659436,  2.26659436,  2.31659436,\n",
       "        2.36659436,  2.41659436,  2.46659436,  2.51659436,  2.56659436,\n",
       "        2.61659436,  2.66659436,  2.71659436,  2.76659436,  2.81659436,\n",
       "        2.86659436,  2.91659436,  2.96659436,  3.01659436,  3.06659436,\n",
       "        3.11659436,  3.16659436,  3.21659436,  3.26659436,  3.31659436,\n",
       "        3.36659436,  3.41659436,  3.46659436,  3.51659436,  3.56659436,\n",
       "        3.61659436,  3.66659436,  3.71659436,  3.76659436,  3.81659436,\n",
       "        3.86659436,  3.91659436,  3.96659436,  4.01659436,  4.06659436,\n",
       "        4.11659436,  4.16659436,  4.21659436,  4.26659436,  4.31659436,\n",
       "        4.36659436,  4.41659436,  4.46659436,  4.51659436,  4.56659436,\n",
       "        4.61659436,  4.66659436,  4.71659436,  4.76659436,  4.81659436])"
      ]
     },
     "execution_count": 110,
     "metadata": {},
     "output_type": "execute_result"
    }
   ],
   "source": [
    "fvxScenarios   #FVX scenarios that correspond to different movements, ranging from a fall of 88% to an increase of 481%"
   ]
  },
  {
   "cell_type": "code",
   "execution_count": 113,
   "id": "4c893512",
   "metadata": {},
   "outputs": [],
   "source": [
    " spScenarios =np.arange(min(returns[\"S&P500\" ]),max(returns[\"S&P500\"]),0.02)"
   ]
  },
  {
   "cell_type": "code",
   "execution_count": 114,
   "id": "14d0d062",
   "metadata": {},
   "outputs": [
    {
     "data": {
      "text/plain": [
       "array([-0.4090934, -0.3890934, -0.3690934, -0.3490934, -0.3290934,\n",
       "       -0.3090934, -0.2890934, -0.2690934, -0.2490934, -0.2290934,\n",
       "       -0.2090934, -0.1890934, -0.1690934, -0.1490934, -0.1290934,\n",
       "       -0.1090934, -0.0890934, -0.0690934, -0.0490934, -0.0290934,\n",
       "       -0.0090934,  0.0109066,  0.0309066,  0.0509066,  0.0709066,\n",
       "        0.0909066,  0.1109066,  0.1309066,  0.1509066,  0.1709066,\n",
       "        0.1909066,  0.2109066,  0.2309066,  0.2509066,  0.2709066,\n",
       "        0.2909066,  0.3109066,  0.3309066,  0.3509066,  0.3709066,\n",
       "        0.3909066,  0.4109066,  0.4309066,  0.4509066,  0.4709066,\n",
       "        0.4909066,  0.5109066,  0.5309066,  0.5509066,  0.5709066,\n",
       "        0.5909066,  0.6109066,  0.6309066,  0.6509066,  0.6709066,\n",
       "        0.6909066,  0.7109066,  0.7309066,  0.7509066,  0.7709066,\n",
       "        0.7909066,  0.8109066,  0.8309066,  0.8509066,  0.8709066,\n",
       "        0.8909066,  0.9109066,  0.9309066,  0.9509066,  0.9709066,\n",
       "        0.9909066,  1.0109066,  1.0309066,  1.0509066,  1.0709066,\n",
       "        1.0909066,  1.1109066,  1.1309066,  1.1509066,  1.1709066,\n",
       "        1.1909066,  1.2109066,  1.2309066,  1.2509066,  1.2709066,\n",
       "        1.2909066])"
      ]
     },
     "execution_count": 114,
     "metadata": {},
     "output_type": "execute_result"
    }
   ],
   "source": [
    "spScenarios"
   ]
  },
  {
   "cell_type": "code",
   "execution_count": 137,
   "id": "3ec9369f",
   "metadata": {},
   "outputs": [],
   "source": [
    "scenarios=[]"
   ]
  },
  {
   "cell_type": "code",
   "execution_count": 140,
   "id": "ce24de61",
   "metadata": {},
   "outputs": [],
   "source": [
    "for oneFVXValue in fvxScenarios:     #This for loop iterates over all of the values in the FVX and the S&P scenarios,\n",
    "  for oneSPValue in spScenarios:\n",
    "    oneScenario = [oneFVXValue, oneSPValue]  #And then for each simulated value in the FVX and the S&P, we calculate the stock return, using the factor model we had previously set\n",
    "    for oneStockName in stocknames:\n",
    "        alpha = float(modelCoeffs[modelCoeffs[\"Names\"]==oneStockName ][ \"Alpha\" ])\n",
    "        beta_sp = float(modelCoeffs[modelCoeffs[\"Names\"]==oneStockName][\"B_SP\"])\n",
    "        beta_fvx = float(modelCoeffs[modelCoeffs[\"Names\"] == oneStockName][\"B_FVX\"])\n",
    "        oneStockPredictedReturn = alpha + beta_sp * oneSPValue + beta_fvx * oneFVXValue\n",
    "        oneScenario.append(oneStockPredictedReturn)\n",
    "    scenarios.append(oneScenario)\n"
   ]
  },
  {
   "cell_type": "code",
   "execution_count": 141,
   "id": "7b2aabd7",
   "metadata": {},
   "outputs": [],
   "source": [
    "scenarios = pd.DataFrame(scenarios)"
   ]
  },
  {
   "cell_type": "code",
   "execution_count": 142,
   "id": "28764539",
   "metadata": {},
   "outputs": [
    {
     "data": {
      "text/html": [
       "<div>\n",
       "<style scoped>\n",
       "    .dataframe tbody tr th:only-of-type {\n",
       "        vertical-align: middle;\n",
       "    }\n",
       "\n",
       "    .dataframe tbody tr th {\n",
       "        vertical-align: top;\n",
       "    }\n",
       "\n",
       "    .dataframe thead th {\n",
       "        text-align: right;\n",
       "    }\n",
       "</style>\n",
       "<table border=\"1\" class=\"dataframe\">\n",
       "  <thead>\n",
       "    <tr style=\"text-align: right;\">\n",
       "      <th></th>\n",
       "      <th>0</th>\n",
       "      <th>1</th>\n",
       "      <th>2</th>\n",
       "      <th>3</th>\n",
       "      <th>4</th>\n",
       "      <th>5</th>\n",
       "      <th>6</th>\n",
       "      <th>7</th>\n",
       "    </tr>\n",
       "  </thead>\n",
       "  <tbody>\n",
       "    <tr>\n",
       "      <th>0</th>\n",
       "      <td>-0.883406</td>\n",
       "      <td>-0.409093</td>\n",
       "      <td>0.958673</td>\n",
       "      <td>1.253526</td>\n",
       "      <td>-0.206643</td>\n",
       "      <td>0.534599</td>\n",
       "      <td>-0.137041</td>\n",
       "      <td>0.953616</td>\n",
       "    </tr>\n",
       "    <tr>\n",
       "      <th>1</th>\n",
       "      <td>-0.883406</td>\n",
       "      <td>-0.389093</td>\n",
       "      <td>0.959635</td>\n",
       "      <td>1.253522</td>\n",
       "      <td>-0.204991</td>\n",
       "      <td>0.535338</td>\n",
       "      <td>-0.137006</td>\n",
       "      <td>0.954819</td>\n",
       "    </tr>\n",
       "    <tr>\n",
       "      <th>2</th>\n",
       "      <td>-0.883406</td>\n",
       "      <td>-0.369093</td>\n",
       "      <td>0.960598</td>\n",
       "      <td>1.253518</td>\n",
       "      <td>-0.203339</td>\n",
       "      <td>0.536076</td>\n",
       "      <td>-0.136972</td>\n",
       "      <td>0.956022</td>\n",
       "    </tr>\n",
       "    <tr>\n",
       "      <th>3</th>\n",
       "      <td>-0.883406</td>\n",
       "      <td>-0.349093</td>\n",
       "      <td>0.961561</td>\n",
       "      <td>1.253515</td>\n",
       "      <td>-0.201687</td>\n",
       "      <td>0.536815</td>\n",
       "      <td>-0.136937</td>\n",
       "      <td>0.957225</td>\n",
       "    </tr>\n",
       "    <tr>\n",
       "      <th>4</th>\n",
       "      <td>-0.883406</td>\n",
       "      <td>-0.329093</td>\n",
       "      <td>0.962523</td>\n",
       "      <td>1.253511</td>\n",
       "      <td>-0.200035</td>\n",
       "      <td>0.537554</td>\n",
       "      <td>-0.136902</td>\n",
       "      <td>0.958428</td>\n",
       "    </tr>\n",
       "    <tr>\n",
       "      <th>...</th>\n",
       "      <td>...</td>\n",
       "      <td>...</td>\n",
       "      <td>...</td>\n",
       "      <td>...</td>\n",
       "      <td>...</td>\n",
       "      <td>...</td>\n",
       "      <td>...</td>\n",
       "      <td>...</td>\n",
       "    </tr>\n",
       "    <tr>\n",
       "      <th>19775</th>\n",
       "      <td>4.816594</td>\n",
       "      <td>1.210907</td>\n",
       "      <td>-4.417639</td>\n",
       "      <td>-5.238527</td>\n",
       "      <td>0.977960</td>\n",
       "      <td>-2.608063</td>\n",
       "      <td>0.768311</td>\n",
       "      <td>-4.521496</td>\n",
       "    </tr>\n",
       "    <tr>\n",
       "      <th>19776</th>\n",
       "      <td>4.816594</td>\n",
       "      <td>1.230907</td>\n",
       "      <td>-4.416677</td>\n",
       "      <td>-5.238531</td>\n",
       "      <td>0.979612</td>\n",
       "      <td>-2.607324</td>\n",
       "      <td>0.768346</td>\n",
       "      <td>-4.520294</td>\n",
       "    </tr>\n",
       "    <tr>\n",
       "      <th>19777</th>\n",
       "      <td>4.816594</td>\n",
       "      <td>1.250907</td>\n",
       "      <td>-4.415714</td>\n",
       "      <td>-5.238535</td>\n",
       "      <td>0.981264</td>\n",
       "      <td>-2.606585</td>\n",
       "      <td>0.768381</td>\n",
       "      <td>-4.519091</td>\n",
       "    </tr>\n",
       "    <tr>\n",
       "      <th>19778</th>\n",
       "      <td>4.816594</td>\n",
       "      <td>1.270907</td>\n",
       "      <td>-4.414751</td>\n",
       "      <td>-5.238538</td>\n",
       "      <td>0.982916</td>\n",
       "      <td>-2.605846</td>\n",
       "      <td>0.768415</td>\n",
       "      <td>-4.517888</td>\n",
       "    </tr>\n",
       "    <tr>\n",
       "      <th>19779</th>\n",
       "      <td>4.816594</td>\n",
       "      <td>1.290907</td>\n",
       "      <td>-4.413789</td>\n",
       "      <td>-5.238542</td>\n",
       "      <td>0.984569</td>\n",
       "      <td>-2.605108</td>\n",
       "      <td>0.768450</td>\n",
       "      <td>-4.516685</td>\n",
       "    </tr>\n",
       "  </tbody>\n",
       "</table>\n",
       "<p>19780 rows × 8 columns</p>\n",
       "</div>"
      ],
      "text/plain": [
       "              0         1         2         3         4         5         6  \\\n",
       "0     -0.883406 -0.409093  0.958673  1.253526 -0.206643  0.534599 -0.137041   \n",
       "1     -0.883406 -0.389093  0.959635  1.253522 -0.204991  0.535338 -0.137006   \n",
       "2     -0.883406 -0.369093  0.960598  1.253518 -0.203339  0.536076 -0.136972   \n",
       "3     -0.883406 -0.349093  0.961561  1.253515 -0.201687  0.536815 -0.136937   \n",
       "4     -0.883406 -0.329093  0.962523  1.253511 -0.200035  0.537554 -0.136902   \n",
       "...         ...       ...       ...       ...       ...       ...       ...   \n",
       "19775  4.816594  1.210907 -4.417639 -5.238527  0.977960 -2.608063  0.768311   \n",
       "19776  4.816594  1.230907 -4.416677 -5.238531  0.979612 -2.607324  0.768346   \n",
       "19777  4.816594  1.250907 -4.415714 -5.238535  0.981264 -2.606585  0.768381   \n",
       "19778  4.816594  1.270907 -4.414751 -5.238538  0.982916 -2.605846  0.768415   \n",
       "19779  4.816594  1.290907 -4.413789 -5.238542  0.984569 -2.605108  0.768450   \n",
       "\n",
       "              7  \n",
       "0      0.953616  \n",
       "1      0.954819  \n",
       "2      0.956022  \n",
       "3      0.957225  \n",
       "4      0.958428  \n",
       "...         ...  \n",
       "19775 -4.521496  \n",
       "19776 -4.520294  \n",
       "19777 -4.519091  \n",
       "19778 -4.517888  \n",
       "19779 -4.516685  \n",
       "\n",
       "[19780 rows x 8 columns]"
      ]
     },
     "execution_count": 142,
     "metadata": {},
     "output_type": "execute_result"
    }
   ],
   "source": [
    "scenarios"
   ]
  },
  {
   "cell_type": "code",
   "execution_count": 143,
   "id": "5b36922b",
   "metadata": {},
   "outputs": [],
   "source": [
    "scenarios.columns= [\"FVX\",\"S&P500\",'Google','MSFT','CVX','Oracle','IBM','Starbucks']"
   ]
  },
  {
   "cell_type": "code",
   "execution_count": 144,
   "id": "b76b2926",
   "metadata": {},
   "outputs": [
    {
     "data": {
      "text/plain": [
       "Index(['FVX', 'S&P500', 'Google', 'MSFT', 'CVX', 'Oracle', 'IBM', 'Starbucks'], dtype='object')"
      ]
     },
     "execution_count": 144,
     "metadata": {},
     "output_type": "execute_result"
    }
   ],
   "source": [
    "scenarios.columns"
   ]
  },
  {
   "cell_type": "code",
   "execution_count": 146,
   "id": "d707fe69",
   "metadata": {},
   "outputs": [],
   "source": [
    "scenariosCov= scenarios[stocknames].cov()     #Calculating the covariance of a subset off this dataFrame, this can be plugged into the calculation of simulated or scenario based portfolio."
   ]
  },
  {
   "cell_type": "code",
   "execution_count": 147,
   "id": "082fb6cc",
   "metadata": {},
   "outputs": [
    {
     "data": {
      "text/html": [
       "<div>\n",
       "<style scoped>\n",
       "    .dataframe tbody tr th:only-of-type {\n",
       "        vertical-align: middle;\n",
       "    }\n",
       "\n",
       "    .dataframe tbody tr th {\n",
       "        vertical-align: top;\n",
       "    }\n",
       "\n",
       "    .dataframe thead th {\n",
       "        text-align: right;\n",
       "    }\n",
       "</style>\n",
       "<table border=\"1\" class=\"dataframe\">\n",
       "  <thead>\n",
       "    <tr style=\"text-align: right;\">\n",
       "      <th></th>\n",
       "      <th>FVX</th>\n",
       "      <th>S&amp;P500</th>\n",
       "      <th>Google</th>\n",
       "      <th>MSFT</th>\n",
       "      <th>CVX</th>\n",
       "      <th>Oracle</th>\n",
       "      <th>IBM</th>\n",
       "      <th>Starbucks</th>\n",
       "    </tr>\n",
       "  </thead>\n",
       "  <tbody>\n",
       "    <tr>\n",
       "      <th>FVX</th>\n",
       "      <td>2.755139e+00</td>\n",
       "      <td>-1.796205e-19</td>\n",
       "      <td>-2.636374</td>\n",
       "      <td>-3.137832</td>\n",
       "      <td>0.507903</td>\n",
       "      <td>-1.547955</td>\n",
       "      <td>0.436247</td>\n",
       "      <td>-2.693532</td>\n",
       "    </tr>\n",
       "    <tr>\n",
       "      <th>S&amp;P500</th>\n",
       "      <td>-1.796205e-19</td>\n",
       "      <td>2.465125e-01</td>\n",
       "      <td>0.011866</td>\n",
       "      <td>-0.000048</td>\n",
       "      <td>0.020363</td>\n",
       "      <td>0.009106</td>\n",
       "      <td>0.000429</td>\n",
       "      <td>0.014826</td>\n",
       "    </tr>\n",
       "    <tr>\n",
       "      <th>Google</th>\n",
       "      <td>-2.636374e+00</td>\n",
       "      <td>1.186595e-02</td>\n",
       "      <td>2.523299</td>\n",
       "      <td>3.002567</td>\n",
       "      <td>-0.485029</td>\n",
       "      <td>1.481666</td>\n",
       "      <td>-0.417422</td>\n",
       "      <td>2.578136</td>\n",
       "    </tr>\n",
       "    <tr>\n",
       "      <th>MSFT</th>\n",
       "      <td>-3.137832e+00</td>\n",
       "      <td>-4.808130e-05</td>\n",
       "      <td>3.002567</td>\n",
       "      <td>3.573680</td>\n",
       "      <td>-0.578456</td>\n",
       "      <td>1.762966</td>\n",
       "      <td>-0.496843</td>\n",
       "      <td>3.067664</td>\n",
       "    </tr>\n",
       "    <tr>\n",
       "      <th>CVX</th>\n",
       "      <td>5.079033e-01</td>\n",
       "      <td>2.036344e-02</td>\n",
       "      <td>-0.485029</td>\n",
       "      <td>-0.578456</td>\n",
       "      <td>0.095313</td>\n",
       "      <td>-0.284609</td>\n",
       "      <td>0.080457</td>\n",
       "      <td>-0.495321</td>\n",
       "    </tr>\n",
       "    <tr>\n",
       "      <th>Oracle</th>\n",
       "      <td>-1.547955e+00</td>\n",
       "      <td>9.105956e-03</td>\n",
       "      <td>1.481666</td>\n",
       "      <td>1.762966</td>\n",
       "      <td>-0.284609</td>\n",
       "      <td>0.870043</td>\n",
       "      <td>-0.245087</td>\n",
       "      <td>1.513888</td>\n",
       "    </tr>\n",
       "    <tr>\n",
       "      <th>IBM</th>\n",
       "      <td>4.362474e-01</td>\n",
       "      <td>4.286608e-04</td>\n",
       "      <td>-0.417422</td>\n",
       "      <td>-0.496843</td>\n",
       "      <td>0.080457</td>\n",
       "      <td>-0.245087</td>\n",
       "      <td>0.069076</td>\n",
       "      <td>-0.426467</td>\n",
       "    </tr>\n",
       "    <tr>\n",
       "      <th>Starbucks</th>\n",
       "      <td>-2.693532e+00</td>\n",
       "      <td>1.482567e-02</td>\n",
       "      <td>2.578136</td>\n",
       "      <td>3.067664</td>\n",
       "      <td>-0.495321</td>\n",
       "      <td>1.513888</td>\n",
       "      <td>-0.426467</td>\n",
       "      <td>2.634193</td>\n",
       "    </tr>\n",
       "  </tbody>\n",
       "</table>\n",
       "</div>"
      ],
      "text/plain": [
       "                    FVX        S&P500    Google      MSFT       CVX    Oracle  \\\n",
       "FVX        2.755139e+00 -1.796205e-19 -2.636374 -3.137832  0.507903 -1.547955   \n",
       "S&P500    -1.796205e-19  2.465125e-01  0.011866 -0.000048  0.020363  0.009106   \n",
       "Google    -2.636374e+00  1.186595e-02  2.523299  3.002567 -0.485029  1.481666   \n",
       "MSFT      -3.137832e+00 -4.808130e-05  3.002567  3.573680 -0.578456  1.762966   \n",
       "CVX        5.079033e-01  2.036344e-02 -0.485029 -0.578456  0.095313 -0.284609   \n",
       "Oracle    -1.547955e+00  9.105956e-03  1.481666  1.762966 -0.284609  0.870043   \n",
       "IBM        4.362474e-01  4.286608e-04 -0.417422 -0.496843  0.080457 -0.245087   \n",
       "Starbucks -2.693532e+00  1.482567e-02  2.578136  3.067664 -0.495321  1.513888   \n",
       "\n",
       "                IBM  Starbucks  \n",
       "FVX        0.436247  -2.693532  \n",
       "S&P500     0.000429   0.014826  \n",
       "Google    -0.417422   2.578136  \n",
       "MSFT      -0.496843   3.067664  \n",
       "CVX        0.080457  -0.495321  \n",
       "Oracle    -0.245087   1.513888  \n",
       "IBM        0.069076  -0.426467  \n",
       "Starbucks -0.426467   2.634193  "
      ]
     },
     "execution_count": 147,
     "metadata": {},
     "output_type": "execute_result"
    }
   ],
   "source": [
    "scenarios.cov()"
   ]
  },
  {
   "cell_type": "code",
   "execution_count": 149,
   "id": "fbde8ec5",
   "metadata": {},
   "outputs": [],
   "source": [
    "scenarioTotalRisk= np.dot(np.dot(weights,scenariosCov),weights.T)"
   ]
  },
  {
   "cell_type": "code",
   "execution_count": 150,
   "id": "7f627cb1",
   "metadata": {},
   "outputs": [
    {
     "data": {
      "text/plain": [
       "0.8300506834574495"
      ]
     },
     "execution_count": 150,
     "metadata": {},
     "output_type": "execute_result"
    }
   ],
   "source": [
    "scenarioTotalRisk"
   ]
  },
  {
   "cell_type": "markdown",
   "id": "965d1880",
   "metadata": {},
   "source": [
    "### Value-At-Risk \n",
    "Quantifying the worst case approaches using VAR\n",
    "How much can we afford to lose\n",
    "\n",
    "VAR(given alpha) = P * Z(alpha) * sigma\n",
    "\n",
    "where P: $ invested\n",
    "sigma:   square root of variance returned(from historical, factor or scenario analysis)\n",
    "Z(alpha):Number of standard deviations away from mean where the probability = 1-alpha\n",
    "\n",
    "Multi-period VAR: P * Z(alpha) * sigma * h^(1/2)      \n",
    "where h: no. of trading periods"
   ]
  },
  {
   "cell_type": "code",
   "execution_count": 158,
   "id": "0350d96d",
   "metadata": {},
   "outputs": [],
   "source": [
    "from scipy.stats import norm\n",
    "import math"
   ]
  },
  {
   "cell_type": "code",
   "execution_count": 165,
   "id": "1a2614f0",
   "metadata": {},
   "outputs": [],
   "source": [
    "def calculateVaR(risk,confLevel,principal=1, numMonths=1):                  # risk is variance of portfolio, confLevel: prob of loss\n",
    "    vol= math.sqrt(risk)                                                    # calculating volatility\n",
    "    return abs(principal*norm.ppf(1-confLevel,0,1)*vol*math.sqrt(numMonths))    #norm.ppf used for calculating the mean score Z"
   ]
  },
  {
   "cell_type": "code",
   "execution_count": 166,
   "id": "0a2b7419",
   "metadata": {},
   "outputs": [
    {
     "data": {
      "text/plain": [
       "2.1194684879224366"
      ]
     },
     "execution_count": 166,
     "metadata": {},
     "output_type": "execute_result"
    }
   ],
   "source": [
    "calculateVaR(scenarioTotalRisk,0.99)        # Loss probability = 0.99      #The probability that we will experience a loss of 211% or greater is 1% "
   ]
  },
  {
   "cell_type": "code",
   "execution_count": 168,
   "id": "5f2cbf89",
   "metadata": {},
   "outputs": [
    {
     "data": {
      "text/plain": [
       "0.475805899506801"
      ]
     },
     "execution_count": 168,
     "metadata": {},
     "output_type": "execute_result"
    }
   ],
   "source": [
    "calculateVaR(historicalTotalRisk,0.99) "
   ]
  },
  {
   "cell_type": "code",
   "execution_count": 169,
   "id": "45e40d5c",
   "metadata": {},
   "outputs": [
    {
     "data": {
      "text/plain": [
       "1.2396658713717674"
      ]
     },
     "execution_count": 169,
     "metadata": {},
     "output_type": "execute_result"
    }
   ],
   "source": [
    "calculateVaR(factorModelTotalRisk,0.99) "
   ]
  },
  {
   "cell_type": "code",
   "execution_count": null,
   "id": "75d3baca",
   "metadata": {},
   "outputs": [],
   "source": []
  }
 ],
 "metadata": {
  "kernelspec": {
   "display_name": "Python 3 (ipykernel)",
   "language": "python",
   "name": "python3"
  },
  "language_info": {
   "codemirror_mode": {
    "name": "ipython",
    "version": 3
   },
   "file_extension": ".py",
   "mimetype": "text/x-python",
   "name": "python",
   "nbconvert_exporter": "python",
   "pygments_lexer": "ipython3",
   "version": "3.9.12"
  }
 },
 "nbformat": 4,
 "nbformat_minor": 5
}
